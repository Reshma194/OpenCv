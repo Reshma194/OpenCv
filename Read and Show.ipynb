{
 "cells": [
  {
   "cell_type": "code",
   "execution_count": 7,
   "id": "5e55662d-8858-4ba9-a45e-b1fe7101b583",
   "metadata": {},
   "outputs": [],
   "source": [
    "import cv2"
   ]
  },
  {
   "cell_type": "code",
   "execution_count": 8,
   "id": "866a2bd6-6ffe-47ed-9eb5-8f0f619eac6c",
   "metadata": {},
   "outputs": [],
   "source": [
    "img=cv2.imread(\"img1.jpg\") #image read\n",
    "cv2.imshow(\"TomJerry\",img) #image show\n",
    "cv2.waitKey(5000)  #image frame wait -ms and 0 pass keyboard any key press\n",
    "cv2.destroyAllWindows() #closes all the windows\n",
    "#cv2.destroyWindow()  #only one window closes"
   ]
  },
  {
   "cell_type": "code",
   "execution_count": 6,
   "id": "2fb9bec9-dd10-40da-a32b-b27901c701d9",
   "metadata": {},
   "outputs": [],
   "source": [
    "img=cv2.imread(\"img1.jpg\")\n",
    "cv2.imshow(\"tom\",img)\n",
    "cv2.imshow(\"jerry\",img)\n",
    "cv2.waitKey(0)\n",
    "#cv2.destroyAllWindows()\n",
    "cv2.destroyWindow(\"tom\")       #only one particular window closes"
   ]
  },
  {
   "cell_type": "code",
   "execution_count": null,
   "id": "9f1d9820-8dc3-4dcc-b389-1d208c14baa9",
   "metadata": {},
   "outputs": [],
   "source": []
  }
 ],
 "metadata": {
  "kernelspec": {
   "display_name": "Python 3 (ipykernel)",
   "language": "python",
   "name": "python3"
  },
  "language_info": {
   "codemirror_mode": {
    "name": "ipython",
    "version": 3
   },
   "file_extension": ".py",
   "mimetype": "text/x-python",
   "name": "python",
   "nbconvert_exporter": "python",
   "pygments_lexer": "ipython3",
   "version": "3.12.4"
  }
 },
 "nbformat": 4,
 "nbformat_minor": 5
}
