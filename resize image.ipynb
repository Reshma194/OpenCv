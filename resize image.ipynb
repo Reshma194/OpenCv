{
 "cells": [
  {
   "cell_type": "code",
   "execution_count": 2,
   "id": "5632f3db-228c-4766-998f-b39fdc910412",
   "metadata": {},
   "outputs": [],
   "source": [
    "import cv2\n",
    "import numpy as np"
   ]
  },
  {
   "cell_type": "code",
   "execution_count": 7,
   "id": "9bb37d66-f59e-4b7b-b06e-b01bd2836d9b",
   "metadata": {},
   "outputs": [],
   "source": [
    "img=cv2.imread(\"img2.jpg\") #image read\n",
    "re_img=cv2.resize(img,(700,300))\n",
    "cv2.imshow(\"TomJerry\",re_img) #image show\n",
    "cv2.waitKey(0)  #image frame wait -ms and 0 pass keyboard any key pres\n",
    "cv2.destroyAllWindows() #closes all the windows"
   ]
  },
  {
   "cell_type": "code",
   "execution_count": 27,
   "id": "a6194d20-b5be-4779-a78f-6d22c8e0fb51",
   "metadata": {},
   "outputs": [
    {
     "name": "stdout",
     "output_type": "stream",
     "text": [
      "[[[255 255 255]\n",
      "  [255 255 255]\n",
      "  [255 255 255]\n",
      "  ...\n",
      "  [255 255 255]\n",
      "  [255 255 255]\n",
      "  [255 255 255]]\n",
      "\n",
      " [[255 255 255]\n",
      "  [255 255 255]\n",
      "  [255 255 255]\n",
      "  ...\n",
      "  [255 255 255]\n",
      "  [255 255 255]\n",
      "  [255 255 255]]\n",
      "\n",
      " [[255 255 255]\n",
      "  [255 255 255]\n",
      "  [255 255 255]\n",
      "  ...\n",
      "  [255 255 255]\n",
      "  [255 255 255]\n",
      "  [255 255 255]]\n",
      "\n",
      " ...\n",
      "\n",
      " [[255 255 255]\n",
      "  [255 255 255]\n",
      "  [255 255 255]\n",
      "  ...\n",
      "  [255 255 255]\n",
      "  [255 255 255]\n",
      "  [255 255 255]]\n",
      "\n",
      " [[255 255 255]\n",
      "  [255 255 255]\n",
      "  [255 255 255]\n",
      "  ...\n",
      "  [255 255 255]\n",
      "  [255 255 255]\n",
      "  [255 255 255]]\n",
      "\n",
      " [[255 255 255]\n",
      "  [255 255 255]\n",
      "  [255 255 255]\n",
      "  ...\n",
      "  [255 255 255]\n",
      "  [255 255 255]\n",
      "  [255 255 255]]]\n"
     ]
    }
   ],
   "source": [
    "img=cv2.imread(\"img2.jpg\") #image read\n",
    "print(img)\n"
   ]
  },
  {
   "cell_type": "code",
   "execution_count": 4,
   "id": "138c3934-fe28-4dcf-a2c7-9103757a25c2",
   "metadata": {},
   "outputs": [
    {
     "data": {
      "text/plain": [
       "array([1, 2, 3, 1, 2, 3, 1, 2, 3, 1, 2, 3])"
      ]
     },
     "execution_count": 4,
     "metadata": {},
     "output_type": "execute_result"
    }
   ],
   "source": [
    "v=np.array([1,2,3,1,2,3])\n",
    "np.hstack((v,v))"
   ]
  },
  {
   "cell_type": "code",
   "execution_count": 22,
   "id": "8f8a2521-bd1a-4de1-83b5-7b45a803ede9",
   "metadata": {},
   "outputs": [],
   "source": [
    "img=cv2.imread(\"img2.jpg\")\n",
    "re_img=cv2.resize(img,(300,200))\n",
    "#h=np.vstack((re_img,re_img))   #it is arranged in vertical use v\n",
    "h=np.hstack((re_img,re_img))   #it is arranged in horizantally use h\n",
    "cv2.imshow(\"Doremon\",h)\n",
    "cv2.waitKey(0)\n",
    "cv2.destroyAllWindows()"
   ]
  },
  {
   "cell_type": "code",
   "execution_count": 24,
   "id": "4adecd6c-1af1-4892-baed-b2921c432b57",
   "metadata": {},
   "outputs": [],
   "source": [
    "img=cv2.imread(\"img2.jpg\")\n",
    "re_img=cv2.resize(img,(300,200))\n",
    "h=np.hstack((re_img,re_img))   #it is arranged in horizantally use v  here we can increase the no we want to dispay by adding re_img\n",
    "v=np.vstack((h,h))   #now here it displays the two horizantal way in vertical way and displays 4 images\n",
    "cv2.imshow(\"Doremon\",v)\n",
    "cv2.waitKey(0)\n",
    "cv2.destroyAllWindows()"
   ]
  },
  {
   "cell_type": "code",
   "execution_count": null,
   "id": "47f9e757-7203-4f5e-a585-0973a12db695",
   "metadata": {},
   "outputs": [],
   "source": []
  }
 ],
 "metadata": {
  "kernelspec": {
   "display_name": "Python 3 (ipykernel)",
   "language": "python",
   "name": "python3"
  },
  "language_info": {
   "codemirror_mode": {
    "name": "ipython",
    "version": 3
   },
   "file_extension": ".py",
   "mimetype": "text/x-python",
   "name": "python",
   "nbconvert_exporter": "python",
   "pygments_lexer": "ipython3",
   "version": "3.12.4"
  }
 },
 "nbformat": 4,
 "nbformat_minor": 5
}
