{
 "cells": [
  {
   "cell_type": "code",
   "execution_count": 1,
   "id": "2bc752b6-cb1c-4533-95ef-639f18686e80",
   "metadata": {},
   "outputs": [],
   "source": [
    "import cv2\n",
    "import numpy as np\n",
    "import os"
   ]
  },
  {
   "cell_type": "code",
   "execution_count": 2,
   "id": "44308229-652d-4ac1-a034-fbf7a853b251",
   "metadata": {},
   "outputs": [
    {
     "data": {
      "text/plain": [
       "['img3.jpg', 'img4.png', 'omg5.jpg']"
      ]
     },
     "execution_count": 2,
     "metadata": {},
     "output_type": "execute_result"
    }
   ],
   "source": [
    "list_name=os.listdir(r\"C:\\Users\\DELL\\Desktop\\opencv images\")\n",
    "list_name"
   ]
  },
  {
   "cell_type": "code",
   "execution_count": 16,
   "id": "78b88a1c-ae10-4400-b752-9929705fe93a",
   "metadata": {},
   "outputs": [],
   "source": [
    "for name in list_name:\n",
    "    path=\"C:\\\\Users\\\\DELL\\\\Desktop\\\\opencv images\"\n",
    "    img_name=path+\"\\\\\"+name\n",
    "    img=cv2.imread(img_name)\n",
    "    img=cv2.resize(img,(500,700))\n",
    "    cv2.imshow(\"slideshow\",img)\n",
    "    cv2.waitKey(2000)\n",
    "    cv2.destroyAllWindows()\n",
    "    "
   ]
  },
  {
   "cell_type": "code",
   "execution_count": null,
   "id": "b98077ed-8470-41da-88a2-6771c45dd5c1",
   "metadata": {},
   "outputs": [],
   "source": []
  }
 ],
 "metadata": {
  "kernelspec": {
   "display_name": "Python 3 (ipykernel)",
   "language": "python",
   "name": "python3"
  },
  "language_info": {
   "codemirror_mode": {
    "name": "ipython",
    "version": 3
   },
   "file_extension": ".py",
   "mimetype": "text/x-python",
   "name": "python",
   "nbconvert_exporter": "python",
   "pygments_lexer": "ipython3",
   "version": "3.12.4"
  }
 },
 "nbformat": 4,
 "nbformat_minor": 5
}
